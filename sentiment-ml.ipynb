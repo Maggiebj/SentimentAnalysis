{
 "cells": [
  {
   "cell_type": "markdown",
   "metadata": {},
   "source": [
    "## Sentiment Analysis With Machine Learning\n",
    "\n",
    "In this project, we'll try to utilize machine learning models with tfidf/countervectorizer words representation to do sentiment analysis. It's amazing that machine leaning algorithms  have better performance of 88% accuracy even beat deep learning models with glove word embeddings which is 85% accuracy."
   ]
  },
  {
   "cell_type": "markdown",
   "metadata": {},
   "source": [
    "### Data Read\n",
    "Here we have a look at movies reviews and labels."
   ]
  },
  {
   "cell_type": "code",
   "execution_count": 1,
   "metadata": {
    "scrolled": true
   },
   "outputs": [
    {
     "name": "stdout",
     "output_type": "stream",
     "text": [
      "bromwell high is a cartoon comedy . it ran at the same time as some other programs about school life  such as  teachers  . my   years in the teaching profession lead me to believe that bromwell high  s satire is much closer to reality than is  teachers  . the scramble to survive financially  the insightful students who can see right through their pathetic teachers  pomp  the pettiness of the whole situation  all remind me of the schools i knew and their students . when i saw the episode in which a student repeatedly tried to burn down the school  i immediately recalled . . . . . . . . . at . . . . . . . . . . high . a classic line inspector i  m here to sack one of your teachers . student welcome to bromwell high . i expect that many adults of my age think that bromwell high is far fetched . what a pity that it isn  t   \n",
      "story of a man who has unnatural feelings for a pig . starts out with a opening scene that is a terrific example of absurd comedy . a formal orchestra audience is turn\n",
      "positive\n",
      "negative\n",
      "positive\n",
      "negative\n",
      "positive\n",
      "negative\n",
      "positive\n",
      "negative\n",
      "positive\n",
      "negative\n",
      "positive\n",
      "n\n"
     ]
    }
   ],
   "source": [
    "import numpy as np\n",
    "import pandas as pd\n",
    "with open(\"data/reviews.txt\",'r') as f:\n",
    "    reviews = f.read()\n",
    "with open(\"data/labels.txt\",'r') as f:\n",
    "    labels = f.read()\n",
    "print (reviews[:1000])\n",
    "print (labels[:100])"
   ]
  },
  {
   "cell_type": "markdown",
   "metadata": {},
   "source": [
    "### Data Exploration\n",
    "Before we represent words as numerical data,we split and check reviews with zero length and remove it.\n",
    "1. The reviews are delimited with \\n , we'll split reviews by \\n\n",
    "2. Checking reviews for zero length and removing it.\n",
    "3. We explore reviews length and most common words to compare positive and negative reviews."
   ]
  },
  {
   "cell_type": "markdown",
   "metadata": {},
   "source": [
    "1. We split reviews and labels by \\n"
   ]
  },
  {
   "cell_type": "code",
   "execution_count": 8,
   "metadata": {},
   "outputs": [],
   "source": [
    "reviews_list = reviews.split('\\n')\n",
    "labels_list = labels.split('\\n')"
   ]
  },
  {
   "cell_type": "markdown",
   "metadata": {},
   "source": [
    "2. We find one review with zero length and remove it as well as its label."
   ]
  },
  {
   "cell_type": "code",
   "execution_count": 9,
   "metadata": {},
   "outputs": [
    {
     "name": "stdout",
     "output_type": "stream",
     "text": [
      "Checking null values:   0\n",
      "the zero-length review have index   [25000]\n",
      "Remove the zero-length review!\n"
     ]
    }
   ],
   "source": [
    "reviews_series = pd.Series([r for r in reviews_list])\n",
    "print (\"Checking null values:  \",sum(reviews_series.isna()))\n",
    "review_length = reviews_series.apply(lambda r:len(r))\n",
    "zero_index = [i for i,v in enumerate(review_length) if v==0]\n",
    "print (\"the zero-length review have index  \",zero_index)\n",
    "del reviews_list[25000]\n",
    "del labels_list[25000]\n",
    "print (\"Remove the zero-length review!\")"
   ]
  },
  {
   "cell_type": "code",
   "execution_count": 10,
   "metadata": {},
   "outputs": [
    {
     "name": "stdout",
     "output_type": "stream",
     "text": [
      "Sample labels:\n",
      " 0    1\n",
      "1    0\n",
      "2    1\n",
      "dtype: int64\n",
      "The total reviews is 25000.The ratio of positive reviews is 0.50 \n"
     ]
    }
   ],
   "source": [
    "reviews_series = reviews_series.drop(index=zero_index,axis=0,inplace=False)\n",
    "#print (reviews_series.shape)\n",
    "labels_series = pd.Series([l for l in labels_list]).map({'positive':1,'negative':0})\n",
    "print (\"Sample labels:\\n\",labels_series[:3])\n",
    "print (\"The total reviews is {}.The ratio of positive reviews is {:.2f} \".format(reviews_series.shape[0],labels_series.sum()/labels_series.count()))"
   ]
  },
  {
   "cell_type": "markdown",
   "metadata": {},
   "source": [
    "3. We explore and compare the reviews length for positive and negative reviews"
   ]
  },
  {
   "cell_type": "code",
   "execution_count": 11,
   "metadata": {},
   "outputs": [
    {
     "data": {
      "text/html": [
       "<div>\n",
       "<style scoped>\n",
       "    .dataframe tbody tr th:only-of-type {\n",
       "        vertical-align: middle;\n",
       "    }\n",
       "\n",
       "    .dataframe tbody tr th {\n",
       "        vertical-align: top;\n",
       "    }\n",
       "\n",
       "    .dataframe thead th {\n",
       "        text-align: right;\n",
       "    }\n",
       "</style>\n",
       "<table border=\"1\" class=\"dataframe\">\n",
       "  <thead>\n",
       "    <tr style=\"text-align: right;\">\n",
       "      <th></th>\n",
       "      <th>review</th>\n",
       "      <th>review_length</th>\n",
       "      <th>label</th>\n",
       "    </tr>\n",
       "  </thead>\n",
       "  <tbody>\n",
       "    <tr>\n",
       "      <td>0</td>\n",
       "      <td>bromwell high is a cartoon comedy . it ran at ...</td>\n",
       "      <td>832</td>\n",
       "      <td>positive</td>\n",
       "    </tr>\n",
       "    <tr>\n",
       "      <td>1</td>\n",
       "      <td>story of a man who has unnatural feelings for ...</td>\n",
       "      <td>667</td>\n",
       "      <td>negative</td>\n",
       "    </tr>\n",
       "    <tr>\n",
       "      <td>2</td>\n",
       "      <td>homelessness  or houselessness as george carli...</td>\n",
       "      <td>2398</td>\n",
       "      <td>positive</td>\n",
       "    </tr>\n",
       "    <tr>\n",
       "      <td>3</td>\n",
       "      <td>airport    starts as a brand new luxury    pla...</td>\n",
       "      <td>4476</td>\n",
       "      <td>negative</td>\n",
       "    </tr>\n",
       "    <tr>\n",
       "      <td>4</td>\n",
       "      <td>brilliant over  acting by lesley ann warren . ...</td>\n",
       "      <td>857</td>\n",
       "      <td>positive</td>\n",
       "    </tr>\n",
       "  </tbody>\n",
       "</table>\n",
       "</div>"
      ],
      "text/plain": [
       "                                              review  review_length     label\n",
       "0  bromwell high is a cartoon comedy . it ran at ...            832  positive\n",
       "1  story of a man who has unnatural feelings for ...            667  negative\n",
       "2  homelessness  or houselessness as george carli...           2398  positive\n",
       "3  airport    starts as a brand new luxury    pla...           4476  negative\n",
       "4  brilliant over  acting by lesley ann warren . ...            857  positive"
      ]
     },
     "execution_count": 11,
     "metadata": {},
     "output_type": "execute_result"
    }
   ],
   "source": [
    "dt = pd.DataFrame(reviews_series,columns=[\"review\"])\n",
    "dt[\"review_length\"] = dt.review.apply(len)\n",
    "dt[\"label\"] = labels_list\n",
    "dt.head()"
   ]
  },
  {
   "cell_type": "code",
   "execution_count": 92,
   "metadata": {},
   "outputs": [
    {
     "data": {
      "text/html": [
       "<div>\n",
       "<style scoped>\n",
       "    .dataframe tbody tr th:only-of-type {\n",
       "        vertical-align: middle;\n",
       "    }\n",
       "\n",
       "    .dataframe tbody tr th {\n",
       "        vertical-align: top;\n",
       "    }\n",
       "\n",
       "    .dataframe thead th {\n",
       "        text-align: right;\n",
       "    }\n",
       "</style>\n",
       "<table border=\"1\" class=\"dataframe\">\n",
       "  <thead>\n",
       "    <tr style=\"text-align: right;\">\n",
       "      <th></th>\n",
       "      <th>count</th>\n",
       "      <th>mean</th>\n",
       "      <th>std</th>\n",
       "      <th>min</th>\n",
       "      <th>25%</th>\n",
       "      <th>50%</th>\n",
       "      <th>75%</th>\n",
       "      <th>max</th>\n",
       "    </tr>\n",
       "    <tr>\n",
       "      <th>label</th>\n",
       "      <th></th>\n",
       "      <th></th>\n",
       "      <th></th>\n",
       "      <th></th>\n",
       "      <th></th>\n",
       "      <th></th>\n",
       "      <th></th>\n",
       "      <th></th>\n",
       "    </tr>\n",
       "  </thead>\n",
       "  <tbody>\n",
       "    <tr>\n",
       "      <td>negative</td>\n",
       "      <td>12500.0</td>\n",
       "      <td>1324.63800</td>\n",
       "      <td>969.383844</td>\n",
       "      <td>55.0</td>\n",
       "      <td>722.0</td>\n",
       "      <td>993.0</td>\n",
       "      <td>1595.0</td>\n",
       "      <td>9117.0</td>\n",
       "    </tr>\n",
       "    <tr>\n",
       "      <td>positive</td>\n",
       "      <td>12500.0</td>\n",
       "      <td>1367.62336</td>\n",
       "      <td>1058.787192</td>\n",
       "      <td>74.0</td>\n",
       "      <td>707.0</td>\n",
       "      <td>998.0</td>\n",
       "      <td>1673.0</td>\n",
       "      <td>13859.0</td>\n",
       "    </tr>\n",
       "  </tbody>\n",
       "</table>\n",
       "</div>"
      ],
      "text/plain": [
       "            count        mean          std   min    25%    50%     75%  \\\n",
       "label                                                                    \n",
       "negative  12500.0  1324.63800   969.383844  55.0  722.0  993.0  1595.0   \n",
       "positive  12500.0  1367.62336  1058.787192  74.0  707.0  998.0  1673.0   \n",
       "\n",
       "              max  \n",
       "label              \n",
       "negative   9117.0  \n",
       "positive  13859.0  "
      ]
     },
     "execution_count": 92,
     "metadata": {},
     "output_type": "execute_result"
    }
   ],
   "source": [
    "dt.groupby(\"label\").review_length.describe()"
   ]
  },
  {
   "cell_type": "markdown",
   "metadata": {},
   "source": [
    "We see positive reviews are slightly longer than negative reviews."
   ]
  },
  {
   "cell_type": "code",
   "execution_count": 13,
   "metadata": {},
   "outputs": [
    {
     "data": {
      "text/plain": [
       "Text(0.5, 0, 'review Length')"
      ]
     },
     "execution_count": 13,
     "metadata": {},
     "output_type": "execute_result"
    },
    {
     "data": {
      "image/png": "[encoded data removed]",
      "text/plain": [
       "<Figure size 864x576 with 1 Axes>"
      ]
     },
     "metadata": {
      "needs_background": "light"
     },
     "output_type": "display_data"
    }
   ],
   "source": [
    "import matplotlib.pyplot as plt\n",
    "plt.figure(figsize=(12, 8))\n",
    "\n",
    "dt[dt.label=='positive'].review_length.plot(bins=35, kind='hist', color='green', \n",
    "                                       label='positive', alpha=0.6)\n",
    "dt[dt.label=='negative'].review_length.plot(bins=35,kind='hist', color='red', \n",
    "                                       label='negative', alpha=0.6)\n",
    "plt.legend()\n",
    "plt.xlabel(\"review Length\")"
   ]
  },
  {
   "cell_type": "code",
   "execution_count": 24,
   "metadata": {},
   "outputs": [],
   "source": [
    "from collections import Counter\n",
    "import string\n",
    "from nltk.corpus import stopwords\n",
    "def text_process(review):\n",
    "    \"\"\"\n",
    "    Remove punctuations and stopwords in review.\n",
    "    \n",
    "    Return:\n",
    "    list of cleaned words with lower case.\n",
    "    \"\"\"\n",
    "    nopunc = [char for char in review if char not in string.punctuation]\n",
    "    nopunc = ''.join(nopunc)\n",
    "    return ' '.join([word.lower() for word in nopunc.split() if word.lower() not in stopwords.words('english')])\n"
   ]
  },
  {
   "cell_type": "markdown",
   "metadata": {},
   "source": [
    "We see the most common words are both in positive and negative reviews, these are useless to predict labels, we'll remove these most common words in model building."
   ]
  },
  {
   "cell_type": "code",
   "execution_count": 25,
   "metadata": {},
   "outputs": [
    {
     "name": "stdout",
     "output_type": "stream",
     "text": [
      "The most common 50 words in positive reviews:  [('br', 49235), ('film', 20937), ('movie', 19074), ('one', 13655), ('like', 9038), ('good', 7720), ('story', 6780), ('time', 6515), ('great', 6419), ('well', 6405), ('see', 6026), ('also', 5550), ('really', 5476), ('would', 5400), ('even', 4964), ('first', 4755), ('much', 4685), ('people', 4479), ('best', 4319), ('love', 4301), ('get', 4272), ('life', 4199), ('way', 4036), ('made', 3823), ('films', 3813), ('many', 3766), ('two', 3733), ('think', 3655), ('movies', 3586), ('characters', 3560), ('character', 3514), ('man', 3460), ('show', 3432), ('watch', 3424), ('seen', 3414), ('little', 3341), ('still', 3340), ('make', 3303), ('could', 3237), ('never', 3226), ('know', 2833), ('years', 2758), ('ever', 2734), ('end', 2696), ('real', 2568), ('scene', 2567), ('back', 2547), ('though', 2475), ('new', 2458), ('go', 2440)]\n",
      "The most common 50 words in negtive reviews:   [('br', 52637), ('movie', 24965), ('film', 19218), ('one', 13134), ('like', 11238), ('even', 7687), ('good', 7423), ('bad', 7401), ('would', 7036), ('really', 6262), ('time', 6209), ('see', 5452), ('story', 5208), ('much', 5078), ('get', 5037), ('people', 4806), ('make', 4722), ('could', 4686), ('made', 4541), ('first', 4306), ('well', 4254), ('plot', 4154), ('movies', 4080), ('acting', 4056), ('way', 3989), ('think', 3643), ('also', 3608), ('characters', 3600), ('watch', 3550), ('character', 3506), ('better', 3358), ('know', 3334), ('seen', 3265), ('ever', 3263), ('never', 3259), ('two', 3173), ('little', 3096), ('films', 3077), ('nothing', 2990), ('say', 2982), ('end', 2954), ('something', 2942), ('many', 2909), ('thing', 2866), ('show', 2862), ('scene', 2816), ('scenes', 2785), ('go', 2717), ('great', 2640), ('watching', 2640)]\n"
     ]
    }
   ],
   "source": [
    "dt[\"review_clean\"] = dt.review.apply(text_process)\n",
    "words_pos = dt[dt.label=='positive'].review_clean.apply(lambda x:[w for w in x.split()])\n",
    "words_pos_counter = Counter()\n",
    "for w in words_pos:\n",
    "    words_pos_counter.update(w)\n",
    "print (\"The most common 50 words in positive reviews: \",words_pos_counter.most_common(50))\n",
    "words_neg = dt[dt.label=='negative'].review_clean.apply(lambda x:[w for w in x.split()])\n",
    "words_neg_counter = Counter()\n",
    "for w in words_neg:\n",
    "    words_neg_counter.update(w)\n",
    "print (\"The most common 50 words in negtive reviews:  \",words_neg_counter.most_common(50))"
   ]
  },
  {
   "cell_type": "markdown",
   "metadata": {},
   "source": [
    "### Model and Train\n",
    "\n",
    "We split the data into train and test set then use CountVectorizer and TfidfTransformer to vectorize words. We should fit and transform trainset and transform testset, so we have to do train_test_split at first. If we fit and transform on the whole dataset and then split them, the tfidf vectors will have both information on trainset and testset, that is data leakage. Be aware that if we fit on trainset, words only showing in testset will be disgarded when transform on testset. We could also use TfidfVectorizer to convert a collection of raw documents to a matrix of tfidf features. It combines the CountVectorizer and TfidfTransformer."
   ]
  },
  {
   "cell_type": "code",
   "execution_count": 28,
   "metadata": {},
   "outputs": [],
   "source": [
    "from sklearn.model_selection import train_test_split\n",
    "X_train,X_test,y_train,y_test = train_test_split(reviews_list,labels_list,train_size = 0.6,random_state=42)"
   ]
  },
  {
   "cell_type": "code",
   "execution_count": 47,
   "metadata": {},
   "outputs": [
    {
     "name": "stdout",
     "output_type": "stream",
     "text": [
      "Pipeline(memory=None,\n",
      "         steps=[('CountVect',\n",
      "                 CountVectorizer(analyzer='word', binary=False,\n",
      "                                 decode_error='strict',\n",
      "                                 dtype=<class 'numpy.int64'>, encoding='utf-8',\n",
      "                                 input='content', lowercase=True, max_df=0.2,\n",
      "                                 max_features=None, min_df=2,\n",
      "                                 ngram_range=(1, 2), preprocessor=None,\n",
      "                                 stop_words='english', strip_accents=None,\n",
      "                                 token_pattern='(?u)\\\\b\\\\w\\\\w+\\\\b',\n",
      "                                 tokenizer=None, vocabulary=None)),\n",
      "                ('TfidfTrans',\n",
      "                 TfidfTransformer(norm='l2', smooth_idf=True,\n",
      "                                  sublinear_tf=False, use_idf=True)),\n",
      "                ('MultinomialNB',\n",
      "                 MultinomialNB(alpha=1.0, class_prior=None, fit_prior=True))],\n",
      "         verbose=False)\n"
     ]
    }
   ],
   "source": [
    "from sklearn.feature_extraction.text import CountVectorizer\n",
    "from sklearn.feature_extraction.text import TfidfTransformer\n",
    "from sklearn.model_selection import GridSearchCV\n",
    "from sklearn.pipeline import Pipeline\n",
    "from sklearn.linear_model import LogisticRegression\n",
    "from sklearn.naive_bayes import MultinomialNB\n",
    "\n",
    "\n",
    "pipeline1 = Pipeline([('CountVect',CountVectorizer(lowercase=True,stop_words='english',analyzer='word',ngram_range=(1,2))),\n",
    "                      ('TfidfTrans',TfidfTransformer()),\n",
    "                      ('MultinomialNB',MultinomialNB())])\n",
    "\n",
    "param = dict(CountVect__max_df=[0.1,0.2],CountVect__min_df=[2,5])\n",
    "\n",
    "gridsearch1 = GridSearchCV(pipeline1,param_grid=param,scoring='accuracy',cv=5)\n",
    "\n",
    "#print (gridsearch1.estimator.get_params().keys())\n",
    "gridsearch1.fit(X_train,y_train)\n",
    "print (gridsearch1.best_estimator_)"
   ]
  },
  {
   "cell_type": "code",
   "execution_count": 48,
   "metadata": {},
   "outputs": [
    {
     "data": {
      "text/plain": [
       "0.8796"
      ]
     },
     "execution_count": 48,
     "metadata": {},
     "output_type": "execute_result"
    }
   ],
   "source": [
    "from sklearn import metrics\n",
    "y_predict = gridsearch1.predict(X_test)\n",
    "metrics.accuracy_score(y_test,y_predict)"
   ]
  },
  {
   "cell_type": "markdown",
   "metadata": {},
   "source": [
    "We try to remove tfidf transformer and get the slightly lower score than best estimator with tfidf, so we keep tfidf."
   ]
  },
  {
   "cell_type": "code",
   "execution_count": 51,
   "metadata": {},
   "outputs": [
    {
     "data": {
      "text/plain": [
       "0.8731"
      ]
     },
     "execution_count": 51,
     "metadata": {},
     "output_type": "execute_result"
    }
   ],
   "source": [
    "pipeline_onlycv = Pipeline([\n",
    "    ('CountVect',CountVectorizer(lowercase=True,stop_words='english',analyzer='word',ngram_range=(1,2),max_df=0.2,min_df=2)),\n",
    "    ('MultinomialNB',MultinomialNB())\n",
    "]\n",
    ")\n",
    "pipeline_onlycv.fit(X_train,y_train)\n",
    "y_predict = pipeline_onlycv.predict(X_test)\n",
    "metrics.accuracy_score(y_test,y_predict)"
   ]
  },
  {
   "cell_type": "markdown",
   "metadata": {},
   "source": [
    "We test model with logisticregression ,and get a better performance on testset ."
   ]
  },
  {
   "cell_type": "code",
   "execution_count": 56,
   "metadata": {},
   "outputs": [
    {
     "data": {
      "text/plain": [
       "0.8847"
      ]
     },
     "execution_count": 56,
     "metadata": {},
     "output_type": "execute_result"
    }
   ],
   "source": [
    "pipeline_lr = Pipeline([\n",
    "    ('CountVect',CountVectorizer(lowercase=True,stop_words='english',analyzer='word',ngram_range=(1,2),max_df=0.2,min_df=2)),\n",
    "    ('tfidf',TfidfTransformer()),\n",
    "    ('logisticreg',LogisticRegression(solver='liblinear'))\n",
    "]\n",
    ")\n",
    "pipeline_lr.fit(X_train,y_train)\n",
    "y_predict = pipeline_lr.predict(X_test)\n",
    "metrics.accuracy_score(y_test,y_predict)"
   ]
  },
  {
   "cell_type": "code",
   "execution_count": 57,
   "metadata": {},
   "outputs": [
    {
     "data": {
      "text/plain": [
       "array([[4321,  647],\n",
       "       [ 506, 4526]])"
      ]
     },
     "execution_count": 57,
     "metadata": {},
     "output_type": "execute_result"
    }
   ],
   "source": [
    "metrics.confusion_matrix(y_test, y_predict)"
   ]
  },
  {
   "cell_type": "code",
   "execution_count": 101,
   "metadata": {},
   "outputs": [],
   "source": [
    "y_test1 = pd.Series(y_test).map({'positive':1,'negative':0})\n",
    "y_predict1 = pd.Series(y_predict).map({'positive':1,'negative':0})"
   ]
  },
  {
   "cell_type": "code",
   "execution_count": 105,
   "metadata": {},
   "outputs": [
    {
     "name": "stdout",
     "output_type": "stream",
     "text": [
      "Sample predict error with true positive. \n",
      "\n",
      "['by the end of the first hour my jaw was nestled comfortably between my feet . the movie never  and i do mean never  lets up in action . it may be mild action but it  s action . once again every member of the cast fits perfectly . the explosions were realistic  the chase scenes were feasible  and the fighting was incredible . matt damon will forever be jason bourne .  br    br   all i really have to say is that every bourne movie gets better and this is no exception . the action  the stakes  the plot . how they do it i will never know . i applaud the man who wrote the screen plays to every one of these movies . because if he hadn  t done such a great job with the first movie  we wouldn  t have this one to talk about .  br    br   so don  t go see it in theaters  go experience it in theaters if it  s still out where you live  but if not december   th bourne comes home to you   ']\n",
      "\n",
      " Sample predict error with true negative. \n",
      "\n",
      "['its hard to make heads or tails of this film . unless you  re well oiled and in the mood to mock  don  t view santa claus . it mixes santa  satan  merlin  and moralizing in a most unappetizing way . it certainly is not for fretful children .  ']\n"
     ]
    }
   ],
   "source": [
    "print (\"Sample predict error with true positive. \\n\")\n",
    "print (np.array(X_test)[(y_test1==1) & (y_test1==y_predict1) ][2:3])\n",
    "print (\"\\n Sample predict error with true negative. \\n\")\n",
    "print (np.array(X_test)[(y_test1==0) & (y_test1==y_predict1) ][0:1])"
   ]
  },
  {
   "cell_type": "code",
   "execution_count": 108,
   "metadata": {},
   "outputs": [
    {
     "name": "stdout",
     "output_type": "stream",
     "text": [
      "Sample predict error with false positive. \n",
      "\n",
      "['hi  everyone  if you saw  singing in the rain   you remember the scene of gene kelly dancing in the rain . you also remember the dance number of donald o  connor   make  em laugh .  if you saw  royal wedding   you will remember fred astaire dancing on the ceiling . if you saw  jailhouse rock   you will even remember the title dance number choreographed by the king himself .  br    br   that is what is missing here . there could have been some blockbuster dance numbers in this presentation . the closest was chuck mcgowan  s  i can do that .  the mere fact that you have some talented people on stage moving together does not make a great dance film . richard attenborough was to blame for this failure . he pointed the camera at the stage and thought that would be a good thing .  br    br   yelling at people auditioning for a part in a broadway production is not entertainment . michael douglas would be just as badly cast if he were in a western or a comedy . he is ok when he is in a michael douglas movie where we see him yelling at someone we would like to yell at . it does not work here .  br    br   the cast was good except for michael  of course . a good movie could have been made even using the songs that were in the stage production  but someone should have thought about how to film it .  br    br   next time they do one of these i hope they call me first .  br    br   tom willett  ']\n",
      "\n",
      " Sample predict error with false negative. \n",
      "\n",
      "['i grew up watching scooby and have been a fan forever . this cartoon moves away from the same old routine that can get boring to viewers . the crooks in mask routine gets old and this cartoon is a change from that . it  s not meant to replace the scooby gang it  s just a break from the same old crime scene for both viewers and writers i  m sure . the cartoon  s focus is on scooby and shaggy who inherits a large sum of money and use that money to thwart world conquest plans from a mad scientist and his goons . small homages of the gang and the gang themselves are featured from time to time . if you are a fan of scooby  doo you can still appreciate the bond between a boy and his talking dog  along with the jokes that come with it . just enjoythe cartoon and support the creators  writers and producers so that this won  t be the last scooby cartoon .  ']\n"
     ]
    }
   ],
   "source": [
    "print (\"Sample predict error with false positive. \\n\")\n",
    "print (np.array(X_test)[y_test1<y_predict1][2:3])\n",
    "print (\"\\n Sample predict error with false negative. \\n\")\n",
    "print (np.array(X_test)[y_test1>y_predict1][0:1])"
   ]
  },
  {
   "cell_type": "code",
   "execution_count": 113,
   "metadata": {},
   "outputs": [],
   "source": [
    "CountVect = CountVectorizer(lowercase=True,stop_words='english',analyzer='word',ngram_range=(1,2),max_df=0.2,min_df=2)\n",
    "tfidf = TfidfTransformer()\n",
    "X_train1 = CountVect.fit_transform(X_train)\n",
    "X_train2 = tfidf.fit_transform(X_train1)\n",
    "X_test1 = CountVect.transform(X_test)\n",
    "X_test2 = tfidf.transform(X_test1)\n"
   ]
  },
  {
   "cell_type": "markdown",
   "metadata": {},
   "source": [
    "tp,tn,fp,fn don't show much difference in X_test"
   ]
  },
  {
   "cell_type": "code",
   "execution_count": 155,
   "metadata": {},
   "outputs": [
    {
     "name": "stdout",
     "output_type": "stream",
     "text": [
      "0.028653670296655182\n",
      "0.027754644862324245\n"
     ]
    }
   ],
   "source": [
    "from scipy.sparse import csr_matrix\n",
    "index_tp = y_test1[(y_test1==1) & (y_predict1==1)].index\n",
    "print (X_test1[index_tp].toarray().std(axis=1,ddof=1).mean())\n",
    "index_tn = y_test1[(y_test1==0)&(y_predict1==0)].index\n",
    "print (X_test1[index_tn].toarray().std(axis=1,ddof=1).mean())"
   ]
  },
  {
   "cell_type": "code",
   "execution_count": 156,
   "metadata": {},
   "outputs": [
    {
     "name": "stdout",
     "output_type": "stream",
     "text": [
      "0.028392313306818427\n",
      "0.028814910379469028\n"
     ]
    }
   ],
   "source": [
    "index_fp = y_test1[(y_test1==0) & (y_predict1==1)].index\n",
    "print (X_test1[index_fp].toarray().std(axis=1,ddof=1).mean())\n",
    "index_fn = y_test1[(y_test1==1)&(y_predict1==0)].index\n",
    "print (X_test1[index_fn].toarray().std(axis=1,ddof=1).mean())"
   ]
  },
  {
   "cell_type": "markdown",
   "metadata": {},
   "source": [
    "### Conclusion:\n",
    "Machine learning algorithms with tfidf/countervectorizer words representing also do a good job of 88% accuracy on sentiment analysis. Even better than lstm,cnn with glove word embeddings of about 85% accuracy."
   ]
  },
  {
   "cell_type": "code",
   "execution_count": null,
   "metadata": {},
   "outputs": [],
   "source": []
  }
 ],
 "metadata": {
  "kernelspec": {
   "display_name": "Python 3",
   "language": "python",
   "name": "python3"
  },
  "language_info": {
   "codemirror_mode": {
    "name": "ipython",
    "version": 3
   },
   "file_extension": ".py",
   "mimetype": "text/x-python",
   "name": "python",
   "nbconvert_exporter": "python",
   "pygments_lexer": "ipython3",
   "version": "3.7.4"
  }
 },
 "nbformat": 4,
 "nbformat_minor": 2
}
